{
 "cells": [
  {
   "cell_type": "markdown",
   "id": "a7725260-d7fc-40ec-ae68-c01cf8b6714d",
   "metadata": {},
   "source": [
    "## #3"
   ]
  },
  {
   "cell_type": "code",
   "execution_count": 1,
   "id": "11068a04-65b7-4187-bcac-691bae60f36a",
   "metadata": {},
   "outputs": [],
   "source": [
    "import numpy as np\n",
    "import pandas as pd \n",
    "\n",
    "import pandas_datareader.data as web\n",
    "\n",
    "# visualization\n",
    "import matplotlib.pyplot as plt\n",
    "\n",
    "# do not show Warnings\n",
    "import warnings\n",
    "warnings.simplefilter(action='ignore', category=Warning)"
   ]
  },
  {
   "cell_type": "code",
   "execution_count": 2,
   "id": "4febf858-b787-4ee1-8933-897bd8d9d8f0",
   "metadata": {},
   "outputs": [
    {
     "data": {
      "text/html": [
       "<div>\n",
       "<style scoped>\n",
       "    .dataframe tbody tr th:only-of-type {\n",
       "        vertical-align: middle;\n",
       "    }\n",
       "\n",
       "    .dataframe tbody tr th {\n",
       "        vertical-align: top;\n",
       "    }\n",
       "\n",
       "    .dataframe thead th {\n",
       "        text-align: right;\n",
       "    }\n",
       "</style>\n",
       "<table border=\"1\" class=\"dataframe\">\n",
       "  <thead>\n",
       "    <tr style=\"text-align: right;\">\n",
       "      <th></th>\n",
       "      <th>M2</th>\n",
       "    </tr>\n",
       "    <tr>\n",
       "      <th>DATE</th>\n",
       "      <th></th>\n",
       "    </tr>\n",
       "  </thead>\n",
       "  <tbody>\n",
       "    <tr>\n",
       "      <th>1980-11-03</th>\n",
       "      <td>1591.4</td>\n",
       "    </tr>\n",
       "    <tr>\n",
       "      <th>1980-11-10</th>\n",
       "      <td>1592.9</td>\n",
       "    </tr>\n",
       "    <tr>\n",
       "      <th>1980-11-17</th>\n",
       "      <td>1596.3</td>\n",
       "    </tr>\n",
       "    <tr>\n",
       "      <th>1980-11-24</th>\n",
       "      <td>1597.2</td>\n",
       "    </tr>\n",
       "    <tr>\n",
       "      <th>1980-12-01</th>\n",
       "      <td>1596.1</td>\n",
       "    </tr>\n",
       "    <tr>\n",
       "      <th>...</th>\n",
       "      <td>...</td>\n",
       "    </tr>\n",
       "    <tr>\n",
       "      <th>2021-01-04</th>\n",
       "      <td>19038.9</td>\n",
       "    </tr>\n",
       "    <tr>\n",
       "      <th>2021-01-11</th>\n",
       "      <td>19408.0</td>\n",
       "    </tr>\n",
       "    <tr>\n",
       "      <th>2021-01-18</th>\n",
       "      <td>19420.1</td>\n",
       "    </tr>\n",
       "    <tr>\n",
       "      <th>2021-01-25</th>\n",
       "      <td>19369.8</td>\n",
       "    </tr>\n",
       "    <tr>\n",
       "      <th>2021-02-01</th>\n",
       "      <td>19363.4</td>\n",
       "    </tr>\n",
       "  </tbody>\n",
       "</table>\n",
       "<p>2101 rows × 1 columns</p>\n",
       "</div>"
      ],
      "text/plain": [
       "                 M2\n",
       "DATE               \n",
       "1980-11-03   1591.4\n",
       "1980-11-10   1592.9\n",
       "1980-11-17   1596.3\n",
       "1980-11-24   1597.2\n",
       "1980-12-01   1596.1\n",
       "...             ...\n",
       "2021-01-04  19038.9\n",
       "2021-01-11  19408.0\n",
       "2021-01-18  19420.1\n",
       "2021-01-25  19369.8\n",
       "2021-02-01  19363.4\n",
       "\n",
       "[2101 rows x 1 columns]"
      ]
     },
     "execution_count": 2,
     "metadata": {},
     "output_type": "execute_result"
    }
   ],
   "source": [
    "m2 = web.DataReader(name='M2', data_source='fred', start='1980-1', end='2023-12' )\n",
    "m2"
   ]
  },
  {
   "cell_type": "code",
   "execution_count": 3,
   "id": "d09f2565-554b-4fd0-97c7-286236627d61",
   "metadata": {},
   "outputs": [],
   "source": [
    "from statsmodels.tsa.api import adfuller, kpss"
   ]
  },
  {
   "cell_type": "code",
   "execution_count": 4,
   "id": "eae58ca1-7423-4173-b43e-4f7ab4bc343b",
   "metadata": {},
   "outputs": [
    {
     "data": {
      "text/plain": [
       "1.0"
      ]
     },
     "execution_count": 4,
     "metadata": {},
     "output_type": "execute_result"
    }
   ],
   "source": [
    "adf_stat, pval, usedlag, nobs, critical_values, BIC = adfuller(m2, regression='ct', autolag='BIC')\n",
    "# тестовая статистика, её p-значение и критические значения\n",
    "pval"
   ]
  },
  {
   "cell_type": "markdown",
   "id": "f34cf8ee-19a8-4196-9e10-7a538a845ab2",
   "metadata": {},
   "source": [
    "The $p$-value $>0.05$ $\\Rightarrow$ the time series is not stationary"
   ]
  },
  {
   "cell_type": "code",
   "execution_count": 5,
   "id": "d2d014c2-f655-4e73-8ce9-54b051c986dc",
   "metadata": {},
   "outputs": [
    {
     "name": "stderr",
     "output_type": "stream",
     "text": [
      "/var/folders/86/0g7053ts24sg4v1rcqmpph680000gn/T/ipykernel_58030/3784901810.py:1: InterpolationWarning: The test statistic is outside of the range of p-values available in the\n",
      "look-up table. The actual p-value is smaller than the p-value returned.\n",
      "\n",
      "  kpss_stat, p_value, lags, crit = kpss(m2, regression='ct')\n"
     ]
    },
    {
     "data": {
      "text/plain": [
       "0.01"
      ]
     },
     "execution_count": 5,
     "metadata": {},
     "output_type": "execute_result"
    }
   ],
   "source": [
    "kpss_stat, p_value, lags, crit = kpss(m2, regression='ct')\n",
    "# тестовая статистика, её p-значение и критические значения\n",
    "p_value"
   ]
  },
  {
   "cell_type": "markdown",
   "id": "6206bcd5-7437-49a7-8185-99e0ea2ceb2c",
   "metadata": {},
   "source": [
    "The $p$-value is $<0.05$ $\\Rightarrow$ the time series is not stationary"
   ]
  },
  {
   "cell_type": "code",
   "execution_count": 6,
   "id": "73f64481-a220-4a97-879a-ea4be756b2d6",
   "metadata": {},
   "outputs": [],
   "source": [
    "dm2=m2.diff().dropna()"
   ]
  },
  {
   "cell_type": "code",
   "execution_count": 7,
   "id": "efe832b6-f162-4ae3-a8f9-822c948bbb96",
   "metadata": {},
   "outputs": [
    {
     "data": {
      "text/plain": [
       "1.7954386356829563e-13"
      ]
     },
     "execution_count": 7,
     "metadata": {},
     "output_type": "execute_result"
    }
   ],
   "source": [
    "adf_stat, pval, usedlag, nobs, critical_values, BIC = adfuller(dm2, regression='ct', autolag='BIC')\n",
    "# тестовая статистика, её p-значение и критические значения\n",
    "pval"
   ]
  },
  {
   "cell_type": "markdown",
   "id": "e9df36d3-f61f-4852-a823-e93f01108a48",
   "metadata": {},
   "source": [
    "The $p$-value $<0.05$ $\\Rightarrow$ $\\Delta m2$ is stationary\n",
    "\n",
    "$d=1$"
   ]
  },
  {
   "cell_type": "code",
   "execution_count": 8,
   "id": "4fe01fd9-05cd-42af-b187-669c7bdcc13d",
   "metadata": {},
   "outputs": [
    {
     "name": "stderr",
     "output_type": "stream",
     "text": [
      "/var/folders/86/0g7053ts24sg4v1rcqmpph680000gn/T/ipykernel_58030/2987853739.py:1: InterpolationWarning: The test statistic is outside of the range of p-values available in the\n",
      "look-up table. The actual p-value is smaller than the p-value returned.\n",
      "\n",
      "  kpss_stat, p_value, lags, crit = kpss(dm2, regression='ct')\n"
     ]
    },
    {
     "data": {
      "text/plain": [
       "0.01"
      ]
     },
     "execution_count": 8,
     "metadata": {},
     "output_type": "execute_result"
    }
   ],
   "source": [
    "kpss_stat, p_value, lags, crit = kpss(dm2, regression='ct')\n",
    "# тестовая статистика, её p-значение и критические значения\n",
    "p_value"
   ]
  },
  {
   "cell_type": "markdown",
   "id": "b49f4c9d-cff2-436f-b5d0-c81da0ef1f00",
   "metadata": {},
   "source": [
    "The $p$-value $<0.05$ $\\Rightarrow$ $\\Delta m2$ is not stationary"
   ]
  },
  {
   "cell_type": "code",
   "execution_count": 9,
   "id": "71950f0a-887b-4373-8410-abed280a03d9",
   "metadata": {},
   "outputs": [
    {
     "name": "stderr",
     "output_type": "stream",
     "text": [
      "/var/folders/86/0g7053ts24sg4v1rcqmpph680000gn/T/ipykernel_58030/1656306650.py:2: InterpolationWarning: The test statistic is outside of the range of p-values available in the\n",
      "look-up table. The actual p-value is greater than the p-value returned.\n",
      "\n",
      "  kpss_stat, p_value, lags, crit = kpss(ddm2, regression='ct')\n"
     ]
    },
    {
     "data": {
      "text/plain": [
       "0.1"
      ]
     },
     "execution_count": 9,
     "metadata": {},
     "output_type": "execute_result"
    }
   ],
   "source": [
    "ddm2=m2.diff().diff().dropna()\n",
    "kpss_stat, p_value, lags, crit = kpss(ddm2, regression='ct')\n",
    "# тестовая статистика, её p-значение и критические значения\n",
    "p_value"
   ]
  },
  {
   "cell_type": "markdown",
   "id": "920e87cd-2349-4f88-b008-e84f1e5ce6ff",
   "metadata": {},
   "source": [
    "The $p$-values $>0.05$ $\\Rightarrow$ $\\Delta^2 m2$ is stationary"
   ]
  },
  {
   "cell_type": "markdown",
   "id": "b667099d-3747-4912-945d-efbe0980641e",
   "metadata": {},
   "source": [
    "The conclusion is the following:\n",
    "    according to the KPSS test $d=2$\n",
    "    according to the Dickey-Fuller test $d=1$\n",
    "\n",
    "Let us estimate $arima(2,1,1)$ and $arima(1,2,1)$"
   ]
  },
  {
   "cell_type": "code",
   "execution_count": 10,
   "id": "14ba52ac-3906-430a-891b-54834e4a7d3f",
   "metadata": {},
   "outputs": [],
   "source": [
    "from statsmodels.tsa.api import ARIMA\n",
    "from statsmodels.stats.api import het_arch, acorr_ljungbox\n",
    "from statsmodels.graphics.tsaplots import plot_predict"
   ]
  },
  {
   "cell_type": "code",
   "execution_count": 11,
   "id": "6d658e17-7854-4bd1-9abd-7a7bbffe1816",
   "metadata": {},
   "outputs": [
    {
     "name": "stderr",
     "output_type": "stream",
     "text": [
      "/opt/anaconda3/lib/python3.11/site-packages/statsmodels/tsa/base/tsa_model.py:473: ValueWarning: No frequency information was provided, so inferred frequency W-MON will be used.\n",
      "  self._init_dates(dates, freq)\n",
      "/opt/anaconda3/lib/python3.11/site-packages/statsmodels/tsa/base/tsa_model.py:473: ValueWarning: No frequency information was provided, so inferred frequency W-MON will be used.\n",
      "  self._init_dates(dates, freq)\n",
      "/opt/anaconda3/lib/python3.11/site-packages/statsmodels/tsa/base/tsa_model.py:473: ValueWarning: No frequency information was provided, so inferred frequency W-MON will be used.\n",
      "  self._init_dates(dates, freq)\n",
      "/opt/anaconda3/lib/python3.11/site-packages/statsmodels/tsa/base/tsa_model.py:473: ValueWarning: No frequency information was provided, so inferred frequency W-MON will be used.\n",
      "  self._init_dates(dates, freq)\n",
      "/opt/anaconda3/lib/python3.11/site-packages/statsmodels/tsa/base/tsa_model.py:473: ValueWarning: No frequency information was provided, so inferred frequency W-MON will be used.\n",
      "  self._init_dates(dates, freq)\n",
      "/opt/anaconda3/lib/python3.11/site-packages/statsmodels/tsa/base/tsa_model.py:473: ValueWarning: No frequency information was provided, so inferred frequency W-MON will be used.\n",
      "  self._init_dates(dates, freq)\n"
     ]
    }
   ],
   "source": [
    "mod1 = ARIMA(m2, order=(2,1,1), trend='n', missing='drop')\n",
    "mod2 = ARIMA(m2, order=(1,2,1), trend='n', missing='drop')"
   ]
  },
  {
   "cell_type": "code",
   "execution_count": 12,
   "id": "864fca89-3002-42e5-8f1d-834a1b770fc9",
   "metadata": {},
   "outputs": [],
   "source": [
    "res1 = mod1.fit()\n",
    "res2 = mod2.fit()"
   ]
  },
  {
   "cell_type": "markdown",
   "id": "2410abb3-dc06-4c0d-baa8-13319996f10f",
   "metadata": {},
   "source": [
    "Let's test the residues for serial correlations"
   ]
  },
  {
   "cell_type": "code",
   "execution_count": 13,
   "id": "609a9cef-d025-4c8e-bae3-12b344950b58",
   "metadata": {},
   "outputs": [
    {
     "data": {
      "text/html": [
       "<div>\n",
       "<style scoped>\n",
       "    .dataframe tbody tr th:only-of-type {\n",
       "        vertical-align: middle;\n",
       "    }\n",
       "\n",
       "    .dataframe tbody tr th {\n",
       "        vertical-align: top;\n",
       "    }\n",
       "\n",
       "    .dataframe thead th {\n",
       "        text-align: right;\n",
       "    }\n",
       "</style>\n",
       "<table border=\"1\" class=\"dataframe\">\n",
       "  <thead>\n",
       "    <tr style=\"text-align: right;\">\n",
       "      <th></th>\n",
       "      <th>lb_stat</th>\n",
       "      <th>lb_pvalue</th>\n",
       "    </tr>\n",
       "  </thead>\n",
       "  <tbody>\n",
       "    <tr>\n",
       "      <th>7</th>\n",
       "      <td>272.312679</td>\n",
       "      <td>1.012206e-57</td>\n",
       "    </tr>\n",
       "  </tbody>\n",
       "</table>\n",
       "</div>"
      ],
      "text/plain": [
       "      lb_stat     lb_pvalue\n",
       "7  272.312679  1.012206e-57"
      ]
     },
     "execution_count": 13,
     "metadata": {},
     "output_type": "execute_result"
    }
   ],
   "source": [
    "model_df = mod1.k_params-1\n",
    "# to test we drop first d residuals (d=mod.k_diff)\n",
    "acorr_ljungbox(res1.resid[mod1.k_diff:] , lags=[7], model_df=model_df)"
   ]
  },
  {
   "cell_type": "code",
   "execution_count": 14,
   "id": "0bd2ff24-f841-4907-9ce1-0a24af335208",
   "metadata": {},
   "outputs": [
    {
     "data": {
      "text/html": [
       "<div>\n",
       "<style scoped>\n",
       "    .dataframe tbody tr th:only-of-type {\n",
       "        vertical-align: middle;\n",
       "    }\n",
       "\n",
       "    .dataframe tbody tr th {\n",
       "        vertical-align: top;\n",
       "    }\n",
       "\n",
       "    .dataframe thead th {\n",
       "        text-align: right;\n",
       "    }\n",
       "</style>\n",
       "<table border=\"1\" class=\"dataframe\">\n",
       "  <thead>\n",
       "    <tr style=\"text-align: right;\">\n",
       "      <th></th>\n",
       "      <th>lb_stat</th>\n",
       "      <th>lb_pvalue</th>\n",
       "    </tr>\n",
       "  </thead>\n",
       "  <tbody>\n",
       "    <tr>\n",
       "      <th>7</th>\n",
       "      <td>278.719827</td>\n",
       "      <td>3.749689e-58</td>\n",
       "    </tr>\n",
       "  </tbody>\n",
       "</table>\n",
       "</div>"
      ],
      "text/plain": [
       "      lb_stat     lb_pvalue\n",
       "7  278.719827  3.749689e-58"
      ]
     },
     "execution_count": 14,
     "metadata": {},
     "output_type": "execute_result"
    }
   ],
   "source": [
    "model_df = mod2.k_params-1\n",
    "# to test we drop first d residuals (d=mod.k_diff)\n",
    "acorr_ljungbox(res2.resid[mod2.k_diff:] , lags=[7], model_df=model_df)"
   ]
  },
  {
   "cell_type": "markdown",
   "id": "4bcdf64b-3901-4dcd-822e-f51f717c080e",
   "metadata": {},
   "source": [
    "For both models the $p$-value is $<0.05$ $\\Rightarrow$ they do not pass the test for serial correlation"
   ]
  },
  {
   "cell_type": "markdown",
   "id": "eec85abe-2e3e-4bbe-bcfc-75b1197a4614",
   "metadata": {},
   "source": [
    "Let us compare these two models using the cross-validation"
   ]
  },
  {
   "cell_type": "code",
   "execution_count": 15,
   "id": "b8e8ce8a-d549-4655-9579-1c5e11dc2ffa",
   "metadata": {},
   "outputs": [],
   "source": [
    "from sktime.split import temporal_train_test_split, ExpandingWindowSplitter, SlidingWindowSplitter, SingleWindowSplitter\n",
    "from sktime.forecasting.model_evaluation import evaluate\n",
    "from sktime.performance_metrics.forecasting import MeanSquaredError, MeanAbsoluteError, MeanAbsolutePercentageError # Метрики MSE, MAE, MAPE"
   ]
  },
  {
   "cell_type": "code",
   "execution_count": 16,
   "id": "059d07d0-a946-407d-953e-a850b0bb84c4",
   "metadata": {},
   "outputs": [],
   "source": [
    "from sktime.forecasting.arima import ARIMA, AutoARIMA"
   ]
  },
  {
   "cell_type": "code",
   "execution_count": 17,
   "id": "dcece455-bfbf-4ae3-a98d-870cd90f452b",
   "metadata": {},
   "outputs": [],
   "source": [
    "forecaster1 = ARIMA(order=(2,1,1), trend='n')\n",
    "forecaster2 = ARIMA(order=(1,2,1), trend='n')"
   ]
  },
  {
   "cell_type": "code",
   "execution_count": 19,
   "id": "6ed655e7-74a5-4078-a2f6-ed98f9a12811",
   "metadata": {},
   "outputs": [
    {
     "name": "stderr",
     "output_type": "stream",
     "text": [
      "/opt/anaconda3/lib/python3.11/site-packages/statsmodels/tsa/base/tsa_model.py:473: ValueWarning: No frequency information was provided, so inferred frequency W-MON will be used.\n",
      "  self._init_dates(dates, freq)\n",
      "/opt/anaconda3/lib/python3.11/site-packages/statsmodels/tsa/base/tsa_model.py:473: ValueWarning: No frequency information was provided, so inferred frequency W-MON will be used.\n",
      "  self._init_dates(dates, freq)\n",
      "/opt/anaconda3/lib/python3.11/site-packages/statsmodels/tsa/base/tsa_model.py:473: ValueWarning: No frequency information was provided, so inferred frequency W-MON will be used.\n",
      "  self._init_dates(dates, freq)\n",
      "/opt/anaconda3/lib/python3.11/site-packages/statsmodels/tsa/base/tsa_model.py:473: ValueWarning: No frequency information was provided, so inferred frequency W-MON will be used.\n",
      "  self._init_dates(dates, freq)\n"
     ]
    },
    {
     "name": "stdout",
     "output_type": "stream",
     "text": [
      "cv1= 698219.5527398641 cv2= 651282.671083597\n"
     ]
    }
   ],
   "source": [
    "# разбиваем выбору на обучающую (первые 80%) и тестовую\n",
    "y_train, y_test = temporal_train_test_split(m2, train_size=0.8)\n",
    "\n",
    "# Обучаем модель на тестовом множестве\n",
    "forecaster1.fit(y_train)\n",
    "forecaster2.fit(y_train)\n",
    "\n",
    "# прогнозируем для тестовых наблюдений\n",
    "y_pred1 = forecaster1.predict(fh = y_test.index)\n",
    "y_pred2 = forecaster2.predict(fh = y_test.index)\n",
    "\n",
    "# инициализируем метрику\n",
    "metric = MeanSquaredError(square_root=False)\n",
    "\n",
    "# вычисляем метрику на данных\n",
    "print('cv1=', metric.evaluate(y_test, y_pred1),'cv2=', metric.evaluate(y_test, y_pred2))"
   ]
  },
  {
   "cell_type": "markdown",
   "id": "df924b53-d57f-4aad-a923-dd94db04892c",
   "metadata": {},
   "source": [
    "$cv2$ < $cv1$ $\\Rightarrow$ the second model is better"
   ]
  },
  {
   "cell_type": "markdown",
   "id": "b5722764-c49f-4d8e-95a3-7e8766ea2e91",
   "metadata": {},
   "source": [
    "Automatic order selection"
   ]
  },
  {
   "cell_type": "code",
   "execution_count": 26,
   "id": "4e056e0e-ed20-4795-bcba-f9ad58a8b867",
   "metadata": {},
   "outputs": [
    {
     "name": "stderr",
     "output_type": "stream",
     "text": [
      "/opt/anaconda3/lib/python3.11/site-packages/statsmodels/tsa/base/tsa_model.py:473: ValueWarning: No frequency information was provided, so inferred frequency W-MON will be used.\n",
      "  self._init_dates(dates, freq)\n",
      "/opt/anaconda3/lib/python3.11/site-packages/statsmodels/tsa/base/tsa_model.py:473: ValueWarning: No frequency information was provided, so inferred frequency W-MON will be used.\n",
      "  self._init_dates(dates, freq)\n",
      "/opt/anaconda3/lib/python3.11/site-packages/statsmodels/tsa/base/tsa_model.py:473: ValueWarning: No frequency information was provided, so inferred frequency W-MON will be used.\n",
      "  self._init_dates(dates, freq)\n",
      "/opt/anaconda3/lib/python3.11/site-packages/statsmodels/tsa/base/tsa_model.py:473: ValueWarning: No frequency information was provided, so inferred frequency W-MON will be used.\n",
      "  self._init_dates(dates, freq)\n",
      "/opt/anaconda3/lib/python3.11/site-packages/statsmodels/tsa/base/tsa_model.py:473: ValueWarning: No frequency information was provided, so inferred frequency W-MON will be used.\n",
      "  self._init_dates(dates, freq)\n",
      "/opt/anaconda3/lib/python3.11/site-packages/statsmodels/tsa/base/tsa_model.py:473: ValueWarning: No frequency information was provided, so inferred frequency W-MON will be used.\n",
      "  self._init_dates(dates, freq)\n",
      "/opt/anaconda3/lib/python3.11/site-packages/statsmodels/tsa/base/tsa_model.py:473: ValueWarning: No frequency information was provided, so inferred frequency W-MON will be used.\n",
      "  self._init_dates(dates, freq)\n",
      "/opt/anaconda3/lib/python3.11/site-packages/statsmodels/tsa/base/tsa_model.py:473: ValueWarning: No frequency information was provided, so inferred frequency W-MON will be used.\n",
      "  self._init_dates(dates, freq)\n",
      "/opt/anaconda3/lib/python3.11/site-packages/statsmodels/tsa/base/tsa_model.py:473: ValueWarning: No frequency information was provided, so inferred frequency W-MON will be used.\n",
      "  self._init_dates(dates, freq)\n",
      "/opt/anaconda3/lib/python3.11/site-packages/statsmodels/tsa/base/tsa_model.py:473: ValueWarning: No frequency information was provided, so inferred frequency W-MON will be used.\n",
      "  self._init_dates(dates, freq)\n",
      "/opt/anaconda3/lib/python3.11/site-packages/statsmodels/tsa/base/tsa_model.py:473: ValueWarning: No frequency information was provided, so inferred frequency W-MON will be used.\n",
      "  self._init_dates(dates, freq)\n",
      "/opt/anaconda3/lib/python3.11/site-packages/statsmodels/tsa/base/tsa_model.py:473: ValueWarning: No frequency information was provided, so inferred frequency W-MON will be used.\n",
      "  self._init_dates(dates, freq)\n",
      "/opt/anaconda3/lib/python3.11/site-packages/statsmodels/tsa/base/tsa_model.py:473: ValueWarning: No frequency information was provided, so inferred frequency W-MON will be used.\n",
      "  self._init_dates(dates, freq)\n",
      "/opt/anaconda3/lib/python3.11/site-packages/statsmodels/tsa/base/tsa_model.py:473: ValueWarning: No frequency information was provided, so inferred frequency W-MON will be used.\n",
      "  self._init_dates(dates, freq)\n",
      "/opt/anaconda3/lib/python3.11/site-packages/statsmodels/tsa/base/tsa_model.py:473: ValueWarning: No frequency information was provided, so inferred frequency W-MON will be used.\n",
      "  self._init_dates(dates, freq)\n",
      "/opt/anaconda3/lib/python3.11/site-packages/statsmodels/tsa/base/tsa_model.py:473: ValueWarning: No frequency information was provided, so inferred frequency W-MON will be used.\n",
      "  self._init_dates(dates, freq)\n",
      "/opt/anaconda3/lib/python3.11/site-packages/statsmodels/tsa/base/tsa_model.py:473: ValueWarning: No frequency information was provided, so inferred frequency W-MON will be used.\n",
      "  self._init_dates(dates, freq)\n",
      "/opt/anaconda3/lib/python3.11/site-packages/statsmodels/tsa/base/tsa_model.py:473: ValueWarning: No frequency information was provided, so inferred frequency W-MON will be used.\n",
      "  self._init_dates(dates, freq)\n",
      "/opt/anaconda3/lib/python3.11/site-packages/statsmodels/tsa/base/tsa_model.py:473: ValueWarning: No frequency information was provided, so inferred frequency W-MON will be used.\n",
      "  self._init_dates(dates, freq)\n",
      "/opt/anaconda3/lib/python3.11/site-packages/statsmodels/tsa/base/tsa_model.py:473: ValueWarning: No frequency information was provided, so inferred frequency W-MON will be used.\n",
      "  self._init_dates(dates, freq)\n",
      "/opt/anaconda3/lib/python3.11/site-packages/statsmodels/tsa/base/tsa_model.py:473: ValueWarning: No frequency information was provided, so inferred frequency W-MON will be used.\n",
      "  self._init_dates(dates, freq)\n",
      "/opt/anaconda3/lib/python3.11/site-packages/statsmodels/tsa/base/tsa_model.py:473: ValueWarning: No frequency information was provided, so inferred frequency W-MON will be used.\n",
      "  self._init_dates(dates, freq)\n",
      "/opt/anaconda3/lib/python3.11/site-packages/statsmodels/tsa/base/tsa_model.py:473: ValueWarning: No frequency information was provided, so inferred frequency W-MON will be used.\n",
      "  self._init_dates(dates, freq)\n",
      "/opt/anaconda3/lib/python3.11/site-packages/statsmodels/tsa/base/tsa_model.py:473: ValueWarning: No frequency information was provided, so inferred frequency W-MON will be used.\n",
      "  self._init_dates(dates, freq)\n",
      "/opt/anaconda3/lib/python3.11/site-packages/statsmodels/tsa/base/tsa_model.py:473: ValueWarning: No frequency information was provided, so inferred frequency W-MON will be used.\n",
      "  self._init_dates(dates, freq)\n",
      "/opt/anaconda3/lib/python3.11/site-packages/statsmodels/tsa/base/tsa_model.py:473: ValueWarning: No frequency information was provided, so inferred frequency W-MON will be used.\n",
      "  self._init_dates(dates, freq)\n",
      "/opt/anaconda3/lib/python3.11/site-packages/statsmodels/tsa/base/tsa_model.py:473: ValueWarning: No frequency information was provided, so inferred frequency W-MON will be used.\n",
      "  self._init_dates(dates, freq)\n",
      "/opt/anaconda3/lib/python3.11/site-packages/statsmodels/tsa/base/tsa_model.py:473: ValueWarning: No frequency information was provided, so inferred frequency W-MON will be used.\n",
      "  self._init_dates(dates, freq)\n",
      "/opt/anaconda3/lib/python3.11/site-packages/statsmodels/tsa/base/tsa_model.py:473: ValueWarning: No frequency information was provided, so inferred frequency W-MON will be used.\n",
      "  self._init_dates(dates, freq)\n",
      "/opt/anaconda3/lib/python3.11/site-packages/statsmodels/tsa/base/tsa_model.py:473: ValueWarning: No frequency information was provided, so inferred frequency W-MON will be used.\n",
      "  self._init_dates(dates, freq)\n",
      "/opt/anaconda3/lib/python3.11/site-packages/statsmodels/tsa/base/tsa_model.py:473: ValueWarning: No frequency information was provided, so inferred frequency W-MON will be used.\n",
      "  self._init_dates(dates, freq)\n",
      "/opt/anaconda3/lib/python3.11/site-packages/statsmodels/tsa/base/tsa_model.py:473: ValueWarning: No frequency information was provided, so inferred frequency W-MON will be used.\n",
      "  self._init_dates(dates, freq)\n"
     ]
    },
    {
     "data": {
      "text/plain": [
       "{'intercept': 4.576147686288079,\n",
       " 'ar.L1': -0.49770807975864695,\n",
       " 'ar.L2': 0.21725029726582437,\n",
       " 'ar.L3': 0.011966978609151371,\n",
       " 'ar.L4': 0.3700556161323696,\n",
       " 'ar.L5': 0.3683350668936859,\n",
       " 'ma.L1': 0.8770958674756917,\n",
       " 'sigma2': 457.3034326308302,\n",
       " 'order': (5, 1, 1),\n",
       " 'seasonal_order': (0, 0, 0, 0),\n",
       " 'aic': 18839.90817351739,\n",
       " 'aicc': 18839.977040088408,\n",
       " 'bic': 18885.10571450708,\n",
       " 'hqic': 18856.462820991375}"
      ]
     },
     "execution_count": 26,
     "metadata": {},
     "output_type": "execute_result"
    }
   ],
   "source": [
    "forecaster = AutoARIMA(information_criterion='aic', test='adf', seasonal=False)\n",
    "forecaster.fit(m2)\n",
    "forecaster.get_fitted_params() #['order']"
   ]
  },
  {
   "cell_type": "code",
   "execution_count": 27,
   "id": "0c83b7bd-e0c7-44e0-9800-0e2c10ca0bd3",
   "metadata": {},
   "outputs": [
    {
     "data": {
      "text/html": [
       "<div>\n",
       "<style scoped>\n",
       "    .dataframe tbody tr th:only-of-type {\n",
       "        vertical-align: middle;\n",
       "    }\n",
       "\n",
       "    .dataframe tbody tr th {\n",
       "        vertical-align: top;\n",
       "    }\n",
       "\n",
       "    .dataframe thead th {\n",
       "        text-align: right;\n",
       "    }\n",
       "</style>\n",
       "<table border=\"1\" class=\"dataframe\">\n",
       "  <thead>\n",
       "    <tr style=\"text-align: right;\">\n",
       "      <th></th>\n",
       "      <th>lb_stat</th>\n",
       "      <th>lb_pvalue</th>\n",
       "    </tr>\n",
       "  </thead>\n",
       "  <tbody>\n",
       "    <tr>\n",
       "      <th>7</th>\n",
       "      <td>9.133846</td>\n",
       "      <td>0.002509</td>\n",
       "    </tr>\n",
       "  </tbody>\n",
       "</table>\n",
       "</div>"
      ],
      "text/plain": [
       "    lb_stat  lb_pvalue\n",
       "7  9.133846   0.002509"
      ]
     },
     "execution_count": 27,
     "metadata": {},
     "output_type": "execute_result"
    }
   ],
   "source": [
    "acorr_ljungbox(forecaster.predict_residuals(m2).dropna() , lags=[7], model_df=5+1)"
   ]
  },
  {
   "cell_type": "markdown",
   "id": "3cbdd610-3a89-46ea-988b-6630022f6fd0",
   "metadata": {},
   "source": [
    "The lb statistics of low $\\Rightarrow$ no serial correlation"
   ]
  },
  {
   "cell_type": "markdown",
   "id": "87c21419-b32c-43fa-9b15-739d166d402c",
   "metadata": {},
   "source": [
    "Let us test the presence of heteroskedasticity"
   ]
  },
  {
   "cell_type": "code",
   "execution_count": 29,
   "id": "515599ee-4fe6-459d-b26c-1634ee119792",
   "metadata": {},
   "outputs": [
    {
     "data": {
      "text/plain": [
       "5.016076729298625e-76"
      ]
     },
     "execution_count": 29,
     "metadata": {},
     "output_type": "execute_result"
    }
   ],
   "source": [
    "lm_stat, lm_pval, f_stat, f_pval = het_arch(forecaster.predict_residuals(m2).dropna(), nlags=7, ddof=5+1)\n",
    "\n",
    "lm_pval"
   ]
  },
  {
   "cell_type": "markdown",
   "id": "b8321027-269e-474b-a173-bd7b4569859d",
   "metadata": {},
   "source": [
    "We reject $H_0$ $\\Rightarrow$ there is heteroskedasticity in residues"
   ]
  },
  {
   "cell_type": "code",
   "execution_count": null,
   "id": "66cacedb-5bed-4ad8-b8fb-2c8ca3e06d02",
   "metadata": {},
   "outputs": [],
   "source": []
  }
 ],
 "metadata": {
  "kernelspec": {
   "display_name": "Python 3 (ipykernel)",
   "language": "python",
   "name": "python3"
  },
  "language_info": {
   "codemirror_mode": {
    "name": "ipython",
    "version": 3
   },
   "file_extension": ".py",
   "mimetype": "text/x-python",
   "name": "python",
   "nbconvert_exporter": "python",
   "pygments_lexer": "ipython3",
   "version": "3.11.7"
  }
 },
 "nbformat": 4,
 "nbformat_minor": 5
}
